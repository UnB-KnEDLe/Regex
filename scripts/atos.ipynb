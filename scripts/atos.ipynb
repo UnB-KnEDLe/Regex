{
 "cells": [
  {
   "cell_type": "markdown",
   "metadata": {},
   "source": [
    "# Regras Regex dos Atos"
   ]
  },
  {
   "cell_type": "markdown",
   "metadata": {},
   "source": [
    "### Importações"
   ]
  },
  {
   "cell_type": "code",
   "execution_count": null,
   "metadata": {},
   "outputs": [],
   "source": [
    "import re\n",
    "import pandas as pd\n",
    "\n",
    "from os import listdir\n",
    "from os.path import isfile, join\n",
    "\n"
   ]
  },
  {
   "cell_type": "markdown",
   "metadata": {},
   "source": [
    "### Atos a serem extraidos "
   ]
  },
  {
   "cell_type": "code",
   "execution_count": null,
   "metadata": {},
   "outputs": [],
   "source": [
    "df = pd.DataFrame([[\"Aposentadorias\", \"'CONCEDER', 'APOSENTAR'\", \"Não\"],\n",
    "                  [\"Reversões\", \"REVERTER A ATIVIDADE\", \"Não\"],\n",
    "                  [\"Atos tonados sem efeitos (Aposentadoria)\", \"TORNAR SEM EFEITO\", \"Sim\"]],\n",
    "                  index = [4, 5, 6],\n",
    "                  columns = [\"Atos\", \"Regex\", \"Multiplos\"])\n",
    "\n",
    "style_df = pd.DataFrame(df).style.set_properties(**{'text-align': 'left'}).set_table_styles([ dict(selector='th', props=[('text-align','left')] ) ])\n",
    "style_df\n"
   ]
  },
  {
   "cell_type": "code",
   "execution_count": null,
   "metadata": {},
   "outputs": [],
   "source": [
    "def print_dataframe(df):\n",
    "    style_df = (df.style.set_properties(**{'text-align': 'left'})\n",
    "                                        .set_table_styles([ dict(selector='th',\n",
    "                                                                 props=[('text-align','left')])])\n",
    "                   )\n",
    "    return style_df\n",
    "\n",
    "def get_txts(path):\n",
    "    years = [join(path, x) for x in listdir(path) if not isfile(join(path, x))]\n",
    "    txts = []\n",
    "    for year in years:\n",
    "        months = [join(year, x) for x in listdir(year) if not isfile(join(year, x))]\n",
    "        for month in months:\n",
    "            txts += [join(month, x) for x in listdir(month) if isfile(join(month, x))]\n",
    "    return txts\n",
    "\n"
   ]
  },
  {
   "cell_type": "markdown",
   "metadata": {},
   "source": [
    "### Diretórios"
   ]
  },
  {
   "cell_type": "code",
   "execution_count": null,
   "metadata": {},
   "outputs": [],
   "source": [
    "dodfs_space_dir = \"./data/dodfs_txt_espaco\"\n",
    "dodfs_space_files = get_txts(dodfs_space_dir)\n",
    "\n",
    "dodfs_n_dir = \"./data/dodfs_txt_barra_n\"\n",
    "dodfs_n_files = get_txts(dodfs_n_dir)\n",
    "\n",
    "output = \"./results\""
   ]
  },
  {
   "cell_type": "markdown",
   "metadata": {},
   "source": [
    "## Classes"
   ]
  },
  {
   "cell_type": "code",
   "execution_count": null,
   "metadata": {},
   "outputs": [],
   "source": [
    "test_file = open(dodfs_n_files[1], \"r\")\n",
    "test_txt = test_file.read()"
   ]
  },
  {
   "cell_type": "markdown",
   "metadata": {},
   "source": [
    "### REGEX (Classe Base)"
   ]
  },
  {
   "cell_type": "code",
   "execution_count": null,
   "metadata": {},
   "outputs": [],
   "source": [
    "class Regex:\n",
    "    \n",
    "    def __init__(self, text):\n",
    "        self._text = text\n",
    "        self._raw_acts = {}\n",
    "        self._acts = []\n",
    "        self._columns = []\n",
    "        self.data_frame = pd.DataFrame()\n",
    "    \n",
    "    def find_all(self, rule, flag=0):\n",
    "        return re.findall(rule, self._text, flags=flag)\n",
    "    \n",
    "    def find_in_act(self, rule, act):\n",
    "        match = re.search(rule, act) \n",
    "        if match:\n",
    "            return match.groups()\n",
    "        return \"nan\"\n",
    "    \n",
    "    def _build_dataframe(self):\n",
    "        if len(self._acts) > 0:\n",
    "            df = pd.DataFrame(self._acts)\n",
    "            df.columns = self._columns\n",
    "            return df\n",
    "        return pd.DataFrame()\n",
    "    "
   ]
  },
  {
   "cell_type": "markdown",
   "metadata": {},
   "source": [
    "### Aposentadorias"
   ]
  },
  {
   "cell_type": "code",
   "execution_count": null,
   "metadata": {},
   "outputs": [],
   "source": [
    "class Retirements(Regex):\n",
    "    \n",
    "    def __init__(self, text):\n",
    "        super().__init__(text)\n",
    "        self._columns = [\"Tipo do Ato\", \"SEI\", \"Nome\", \"Matrícula\", \"Tipo de Aposentadoria\", \"Cargo\", \"Classe\",\n",
    "               \"Padrao\", \"Quadro\", \"Fundamento Legal\", \"Orgao\", \"Vigencia\", \"Matricula SIAPE\"]\n",
    "        \n",
    "        self.rules = {\"nome\": \"\\s([^,]*?),\\smatricula\",\n",
    "                      \"matricula\":\"matricula\\s?n?o?\\s([\\s\\S]*?)[,|\\s]\",\n",
    "                      \"tipo_ret\": \"\",\n",
    "                      \"cargo\": \"Cargo\\s[d|D]?[e|E]?\\s([\\s\\S]*?),\",\n",
    "                      \"classe\": \"[C|c]lasse\\s([\\s\\S]*?),\",\n",
    "                      \"padrao\": \"[p|P]adr[a|ã]o\\s([\\s\\S]*?),\",\n",
    "                      \"quadro\": \"d?[e|a|o]?(Quadro[\\s\\S]*?)[,|;|.]\",\n",
    "                      \"fundamento\": \"nos\\stermos\\sdo\\s([\\s\\S]*?),\\sa?\\s\",\n",
    "                      \"orgao\": \"Lotacao: ([\\s\\S]*?)[.]\",\n",
    "                      \"vigencia\": \"\",\n",
    "                      \"siape\": \"[S|s][I|i][A|a][P|p][E|e]\\s[N|n]?[o|O]?\\s([\\s\\S]*?)[,| | .]\"}\n",
    "                      \n",
    "        self._raw_acts = self._extract_instances()   \n",
    "        self._acts = self._acts_props()\n",
    "        self.data_frame = self._build_dataframe()\n",
    "        \n",
    "        \n",
    "    \n",
    "    def _act_props(self, sei, act_raw):\n",
    "        act = {}\n",
    "        act[\"tipo_ato\"] = \"Aposentadoria\"\n",
    "        act[\"sei\"] = sei\n",
    "        for key in self.rules:\n",
    "            try:\n",
    "                act[key], = self.find_in_act(self.rules[key], act_raw)\n",
    "            except:\n",
    "                act[key] = \"nan\"\n",
    "\n",
    "        return act\n",
    "    \n",
    "    def _acts_props(self):\n",
    "        acts = []\n",
    "        for sei, raw in self._raw_acts.items():\n",
    "            act = self._act_props(sei, raw)\n",
    "            acts.append(act)\n",
    "        return acts        \n",
    "        \n",
    "    \n",
    "    def _extract_instances(self):\n",
    "        start = \"(APOSENTAR|CONCEDER\\sAPOSENTADORIA),?\\s?\"\n",
    "        body = \"([\\s\\S]*?)\"\n",
    "        end = \"[P|p]rocesso:?\\s[s|S]?[e|E]?[i|I]?\\s?[n|N]?[o|O]?\\s?([\\s\\S]*?)[.]\\s\"\n",
    "        rule = start + body + end\n",
    "        found = self.find_all(rule)\n",
    "        results = {}\n",
    "        for instance in found:\n",
    "            start, body, sei = instance\n",
    "            results[sei] = body\n",
    "            \n",
    "        return results"
   ]
  },
  {
   "cell_type": "code",
   "execution_count": null,
   "metadata": {},
   "outputs": [],
   "source": [
    "res_dfs = []\n",
    "for txt in dodfs_n_files:\n",
    "    txt_str = open(txt, \"r\").read()\n",
    "    ret = Retirements(txt_str)\n",
    "    if not ret.data_frame.empty:\n",
    "        res_dfs.append(ret.data_frame)\n",
    "\n",
    "rets_final = pd.concat([pd.DataFrame(df) for df in res_dfs],\n",
    "                        ignore_index=True)\n",
    "print_dataframe(rets_final)\n",
    "\n"
   ]
  },
  {
   "cell_type": "markdown",
   "metadata": {},
   "source": [
    "### Reversões"
   ]
  },
  {
   "cell_type": "code",
   "execution_count": null,
   "metadata": {},
   "outputs": [],
   "source": [
    "class Revertions(Regex):\n",
    "\n",
    "    def __init__(self, text):\n",
    "        super().__init__(text)\n",
    "        self._columns = [\"Tipo do Ato\", \"SEI\", \"Nome\", \"Matrícula\", \"Cargo\", \"Classe\",\n",
    "               \"Padrao\", \"Quadro\", \"Fundamento Legal\", \"Orgao\", \"Vigencia\", \"Matricula SIAPE\"]\n",
    "        \n",
    "        self.rules = {\"nome\": \"\\s([^,]*?),\\smatricula\",\n",
    "                      \"matricula\":\"matricula\\s?n?o?\\s([\\s\\S]*?)[,| ]\",\n",
    "                      \"cargo\": \"[C|c]argo\\s[d|D]?[e|E]?\\s([\\s\\S]*?),\",\n",
    "                      \"classe\": \"[C|c]lasse\\s([\\s\\S]*?),\",\n",
    "                      \"padrao\": \"[p|P]adr[a|ã]o\\s([\\s\\S]*?),\",\n",
    "                      \"quadro\": \"d?[e|a|o]?(Quadro[\\s\\S]*?)[,|;|.]\",\n",
    "                      \"fundamento\": \"nos\\stermos\\sdo\\s([\\s\\S]*?),\\sa?\\s\",\n",
    "                      \"orgao\": \"Lotacao: ([\\s\\S]*?)[.]\",\n",
    "                      \"vigencia\": \"\",\n",
    "                      \"siape\": \"\"}\n",
    "                      \n",
    "        self._raw_acts = self._extract_instances()   \n",
    "        self._acts = self._acts_props()\n",
    "        self.data_frame = self._build_dataframe()\n",
    "        \n",
    "        \n",
    "    \n",
    "    def _act_props(self, sei, act_raw):\n",
    "        act = {}\n",
    "        act[\"tipo_ato\"] = \"Reversão\"\n",
    "        act[\"sei\"] = sei\n",
    "        for key in self.rules:\n",
    "            try:\n",
    "                act[key], = self.find_in_act(self.rules[key], act_raw)\n",
    "            except:\n",
    "                act[key] = \"nan\"\n",
    "        return act\n",
    "    \n",
    "    def _acts_props(self):\n",
    "        acts = []\n",
    "        for sei, raw in self._raw_acts.items():\n",
    "            act = self._act_props(sei, raw)\n",
    "            acts.append(act)\n",
    "        return acts        \n",
    "        \n",
    "    \n",
    "    def _extract_instances(self):\n",
    "        start = \"(reverter\\sa\\satividade),?\\s?\"\n",
    "        body = \"([\\s\\S]*?)\"\n",
    "        end = \"[P|p]rocesso:?\\s[s|S]?[e|E]?[i|I]?\\s?[n|N]?[o|O]?\\s?([\\s\\S]*?)[.]\\s\"\n",
    "        end2 = \"Processo\\sde\\sReversao:?\\sn?\\s?([\\s\\S]*?)[.]\\s\"\n",
    "        end3 = \"Processo\\sde\\sReversao\\sSigiloso:?\\s([\\s\\S]*?)[.]\\s\"\n",
    "        end4 = \"Processo\\sde\\sReversao\\sPGDF\\sSEI:?\\s([\\s\\S]*?)[.]\\s\"\n",
    "        rule = start + body + end\n",
    "        found = self.find_all(rule, re.IGNORECASE)\n",
    "        results = {}\n",
    "        for instance in found:\n",
    "            start, body, sei = instance\n",
    "            results[sei] = body\n",
    "        return results\n"
   ]
  },
  {
   "cell_type": "markdown",
   "metadata": {},
   "source": [
    "### Atos Tornados Sem Efeito (Aposentadoria)"
   ]
  },
  {
   "cell_type": "code",
   "execution_count": null,
   "metadata": {
    "scrolled": false
   },
   "outputs": [],
   "source": [
    "res_dfs = []\n",
    "for txt in dodfs_n_files:\n",
    "    txt_str = open(txt, \"r\").read()\n",
    "    rev = Revertions(txt_str)\n",
    "    if not rev.data_frame.empty:\n",
    "        res_dfs.append(rev.data_frame)\n",
    "\n",
    "revs_final = pd.concat([pd.DataFrame(df) for df in res_dfs],\n",
    "           ignore_index=True)\n",
    "print_dataframe(revs_final)\n"
   ]
  },
  {
   "cell_type": "code",
   "execution_count": null,
   "metadata": {},
   "outputs": [],
   "source": [
    "class NonEffect(Regex):\n",
    "\n",
    "    def __init__(self, text):\n",
    "        super().__init__(text)\n",
    "        self._columns = []\n",
    "        \n",
    "        self.rules = {}\n",
    "                      \n",
    "        self._raw_acts = self._extract_instances()   \n",
    "        self._acts = self._acts_props()\n",
    "        self.data_frame = self._build_dataframe()\n",
    "        \n",
    "    \n",
    "    def _act_props(self, sei, act_raw):\n",
    "#         act = {}\n",
    "#         act[\"tipo_ato\"] = \"Aposentadoria\"\n",
    "#         act[\"sei\"] = sei\n",
    "#         for key in self.rules:\n",
    "#             try:\n",
    "#                 act[key], = self.find_in_act(self.rules[key], act_raw)\n",
    "#             except:\n",
    "#                 act[key] = \"nan\"\n",
    "\n",
    "        return act\n",
    "    \n",
    "    def _acts_props(self):\n",
    "#         acts = []\n",
    "#         for sei, raw in self._raw_acts.items():\n",
    "#             act = self._act_props(sei, raw)\n",
    "#             acts.append(act)\n",
    "#         return acts        \n",
    "        \n",
    "    \n",
    "    def _extract_instances(self):\n",
    "#         start = \"(APOSENTAR|CONCEDER\\sAPOSENTADORIA),?\\s?\"\n",
    "#         body = \"([\\s\\S]*?)\"\n",
    "#         end = \"[P|p]rocesso:?\\s[s|S]?[e|E]?[i|I]?\\s?[n|N]?[o|O]?\\s?([\\s\\S]*?)[.]\\s\"\n",
    "#         rule = start + body + end\n",
    "#         found = self.find_all(rule)\n",
    "#         results = {}\n",
    "#         for instance in found:\n",
    "#             start, body, sei = instance\n",
    "#             results[sei] = body\n",
    "            \n",
    "#         return results\n",
    "\n"
   ]
  },
  {
   "cell_type": "markdown",
   "metadata": {},
   "source": [
    "#### Testes Unitários"
   ]
  },
  {
   "cell_type": "code",
   "execution_count": null,
   "metadata": {
    "scrolled": false
   },
   "outputs": [],
   "source": []
  }
 ],
 "metadata": {
  "kernelspec": {
   "display_name": "Python 3",
   "language": "python",
   "name": "python3"
  },
  "language_info": {
   "codemirror_mode": {
    "name": "ipython",
    "version": 3
   },
   "file_extension": ".py",
   "mimetype": "text/x-python",
   "name": "python",
   "nbconvert_exporter": "python",
   "pygments_lexer": "ipython3",
   "version": "3.7.7-final"
  }
 },
 "nbformat": 4,
 "nbformat_minor": 2
}