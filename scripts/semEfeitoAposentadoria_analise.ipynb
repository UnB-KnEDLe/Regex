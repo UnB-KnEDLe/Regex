{
 "cells": [
  {
   "cell_type": "markdown",
   "metadata": {},
   "source": [
    "## Imports"
   ]
  },
  {
   "cell_type": "code",
   "execution_count": 1,
   "metadata": {},
   "outputs": [],
   "source": [
    "import os\n",
    "import sys\n",
    "module_path = os.path.abspath(os.path.join('../regex'))\n",
    "if module_path not in sys.path:\n",
    "    sys.path.append(module_path)"
   ]
  },
  {
   "cell_type": "code",
   "execution_count": 2,
   "metadata": {},
   "outputs": [],
   "source": [
    "import re\n",
    "import helper\n",
    "import pandas as pd\n",
    "import matplotlib.pyplot as plt\n",
    "from matplotlib.pyplot import figure\n",
    "import math"
   ]
  },
  {
   "cell_type": "code",
   "execution_count": 3,
   "metadata": {},
   "outputs": [],
   "source": [
    "from atos import sem_efeito_aposentadoria as sea\n",
    "import numpy as np\n",
    "from importlib import reload as rl\n",
    "import re"
   ]
  },
  {
   "cell_type": "code",
   "execution_count": 4,
   "metadata": {},
   "outputs": [],
   "source": [
    "def attribute_stats(name, rets_final):\n",
    "    presence_name = rets_final[name].value_counts()\n",
    "    total = rets_final.count()\n",
    "    labels = [\"Com \" + name, \"Sem \" + name]\n",
    "    size = [total[name] - presence_name[0], presence_name[0]]\n",
    "    return size, labels"
   ]
  },
  {
   "cell_type": "code",
   "execution_count": 5,
   "metadata": {},
   "outputs": [],
   "source": [
    "import spacy"
   ]
  },
  {
   "cell_type": "code",
   "execution_count": 6,
   "metadata": {},
   "outputs": [],
   "source": [
    "nlp = spacy.load('pt_core_news_sm')"
   ]
  },
  {
   "cell_type": "markdown",
   "metadata": {},
   "source": [
    "# Dataframe SemEfeitoAposentadoria"
   ]
  },
  {
   "cell_type": "code",
   "execution_count": 7,
   "metadata": {},
   "outputs": [
    {
     "name": "stdout",
     "output_type": "stream",
     "text": [
      "CPU times: user 4.69 ms, sys: 156 µs, total: 4.85 ms\n",
      "Wall time: 3.49 ms\n"
     ]
    }
   ],
   "source": [
    "%%time\n",
    "files = helper.get_files_path(\"../data/txt/2019/\")\n",
    "\n",
    "def extract_multiple(files, type, txt_out=False, txt_path=\"./results\"):\n",
    "    res = []\n",
    "    res_acts = []\n",
    "    elis = []\n",
    "    for file in files:\n",
    "        res_obj = sea.SemEfeitoAposentadoria(file, nlp=nlp)\n",
    "        res_df = res_obj.data_frame\n",
    "        res_txt = res_obj.acts_str\n",
    "        if not res_df.empty:\n",
    "            res.append(res_df)\n",
    "            if txt_out:\n",
    "                helper._build_act_txt(res_txt, type, txt_path)\n",
    "                res_acts.extend(res_txt)\n",
    "        else:\n",
    "            elis.append(file)\n",
    "#     return elis\n",
    "    res_final = pd.concat([pd.DataFrame(df) for df in res],\n",
    "                            ignore_index=True)\n",
    "    return res_final, np.array(res_acts)"
   ]
  },
  {
   "cell_type": "markdown",
   "metadata": {},
   "source": [
    "# Análise"
   ]
  },
  {
   "cell_type": "code",
   "execution_count": null,
   "metadata": {
    "scrolled": false
   },
   "outputs": [],
   "source": [
    "%%time\n",
    "rl(sea);\n",
    "res_final, acts_final = extract_multiple(files,\n",
    "    \"semEfeitoAposentadoria\", True, \"../results/\")\n",
    "\n",
    "\n",
    "cor = ['#1b9aaa', '#06d6a0']\n",
    "numb_attr = res_final.shape[1]-1\n",
    "grid_square = math.ceil(numb_attr/2)\n",
    "\n",
    "grid_square = int(grid_square)\n",
    "_, ax = plt.subplots(grid_square, 2, figsize=(15,15))\n",
    "names = res_final.columns[1:]\n",
    "for i in range(grid_square*2):\n",
    "    if i < numb_attr:\n",
    "        size, labels = attribute_stats(names[i], res_final)\n",
    "        ax[math.floor(i/2), i%2].pie(size, labels=labels, autopct='%1.1f%%', startangle=90, colors=cor)\n",
    "        ax[math.floor(i/2), i%2].legend(labels, title=\"Presença\", loc='center left', bbox_to_anchor=(1.3, 0, 0.5, 1))\n",
    "    else:\n",
    "        ax[math.floor(i/2), i%2].axis('off')\n",
    "\n",
    "plt.tight_layout()\n",
    "plt.show()"
   ]
  },
  {
   "cell_type": "code",
   "execution_count": 9,
   "metadata": {},
   "outputs": [
    {
     "name": "stdout",
     "output_type": "stream",
     "text": [
      "CPU times: user 10.3 s, sys: 2.38 s, total: 12.6 s\n",
      "Wall time: 13.9 s\n"
     ]
    }
   ],
   "source": [
    "%%time\n",
    "rl(sea);\n",
    "res_final, acts_final = extract_multiple(files,\n",
    "    \"semEfeitoAposentadoria\", True, \"../results/\")"
   ]
  },
  {
   "cell_type": "code",
   "execution_count": 10,
   "metadata": {},
   "outputs": [
    {
     "data": {
      "text/plain": [
       "Index(['tipo_ato', 'tipo_documento', 'processo', 'dodf_data', 'dodf_num',\n",
       "       'tornado_sem_efeito_publicacao', 'dodf_pagina', 'servidor', 'matricula',\n",
       "       'cargo', 'dodf_tipo_edicao'],\n",
       "      dtype='object')"
      ]
     },
     "execution_count": 10,
     "metadata": {},
     "output_type": "execute_result"
    }
   ],
   "source": [
    "res_final.columns"
   ]
  },
  {
   "cell_type": "code",
   "execution_count": 11,
   "metadata": {},
   "outputs": [
    {
     "data": {
      "text/html": [
       "<div>\n",
       "<style scoped>\n",
       "    .dataframe tbody tr th:only-of-type {\n",
       "        vertical-align: middle;\n",
       "    }\n",
       "\n",
       "    .dataframe tbody tr th {\n",
       "        vertical-align: top;\n",
       "    }\n",
       "\n",
       "    .dataframe thead th {\n",
       "        text-align: right;\n",
       "    }\n",
       "</style>\n",
       "<table border=\"1\" class=\"dataframe\">\n",
       "  <thead>\n",
       "    <tr style=\"text-align: right;\">\n",
       "      <th></th>\n",
       "      <th>tipo_ato</th>\n",
       "      <th>tipo_documento</th>\n",
       "      <th>processo</th>\n",
       "      <th>dodf_data</th>\n",
       "      <th>dodf_num</th>\n",
       "      <th>tornado_sem_efeito_publicacao</th>\n",
       "      <th>dodf_pagina</th>\n",
       "      <th>servidor</th>\n",
       "      <th>matricula</th>\n",
       "      <th>cargo</th>\n",
       "      <th>dodf_tipo_edicao</th>\n",
       "    </tr>\n",
       "  </thead>\n",
       "  <tbody>\n",
       "    <tr>\n",
       "      <th>0</th>\n",
       "      <td>Atos tornados sem efeito - aposentadoria</td>\n",
       "      <td>Portaria</td>\n",
       "      <td>00410-00015912/2018-09</td>\n",
       "      <td>11.04.2003</td>\n",
       "      <td>71</td>\n",
       "      <td>11.02.1998</td>\n",
       "      <td>nan</td>\n",
       "      <td>CONSTANTINO BARBOSA NETO</td>\n",
       "      <td>39.919-1</td>\n",
       "      <td>Fiscal de Obras</td>\n",
       "      <td>normal</td>\n",
       "    </tr>\n",
       "    <tr>\n",
       "      <th>1</th>\n",
       "      <td>Atos tornados sem efeito - aposentadoria</td>\n",
       "      <td>Portaria</td>\n",
       "      <td>00080-00190185/2018-84</td>\n",
       "      <td>24/01/2019</td>\n",
       "      <td>17</td>\n",
       "      <td>18 de janeiro de 2019</td>\n",
       "      <td>17</td>\n",
       "      <td>DANNIEL COSTA MARTINS GARCIA</td>\n",
       "      <td>213.794-1</td>\n",
       "      <td>ocupante do cargo de Tecnico de Gestao Educac...</td>\n",
       "      <td>normal</td>\n",
       "    </tr>\n",
       "    <tr>\n",
       "      <th>2</th>\n",
       "      <td>Atos tornados sem efeito - aposentadoria</td>\n",
       "      <td>nan</td>\n",
       "      <td>nan</td>\n",
       "      <td>07 de fevereiro de 2019</td>\n",
       "      <td>12</td>\n",
       "      <td>07 de fevereiro de 2019</td>\n",
       "      <td>03</td>\n",
       "      <td>ROSANA DE SOUZA RAIMUNDO GONCALVES</td>\n",
       "      <td>27.724-X</td>\n",
       "      <td>Delegada de Policia</td>\n",
       "      <td>normal</td>\n",
       "    </tr>\n",
       "    <tr>\n",
       "      <th>3</th>\n",
       "      <td>Atos tornados sem efeito - aposentadoria</td>\n",
       "      <td>ORDEM DE SERVICO</td>\n",
       "      <td>309.000.318/2018</td>\n",
       "      <td>22 de novembro de 2018</td>\n",
       "      <td>222</td>\n",
       "      <td>309.000.318</td>\n",
       "      <td>nan</td>\n",
       "      <td>CONSUELO ESPERANCA A LV E S FERNANDES</td>\n",
       "      <td>33.348-4</td>\n",
       "      <td>da Gerencia de Julgamento do Contencioso Admi...</td>\n",
       "      <td>normal</td>\n",
       "    </tr>\n",
       "    <tr>\n",
       "      <th>4</th>\n",
       "      <td>Atos tornados sem efeito - aposentadoria</td>\n",
       "      <td>ORDEM DE SERVICO</td>\n",
       "      <td>431.00016959/2018-89</td>\n",
       "      <td>20 de novembro de 2018</td>\n",
       "      <td>220</td>\n",
       "      <td>18 de outubro de 2018</td>\n",
       "      <td>31</td>\n",
       "      <td>ANA RITA LUIZ COELHO</td>\n",
       "      <td>174.511-5</td>\n",
       "      <td>ONDE SE LE: \"AVERBAR tempo de servico prestad...</td>\n",
       "      <td>normal</td>\n",
       "    </tr>\n",
       "  </tbody>\n",
       "</table>\n",
       "</div>"
      ],
      "text/plain": [
       "                                   tipo_ato    tipo_documento  \\\n",
       "0  Atos tornados sem efeito - aposentadoria          Portaria   \n",
       "1  Atos tornados sem efeito - aposentadoria          Portaria   \n",
       "2  Atos tornados sem efeito - aposentadoria               nan   \n",
       "3  Atos tornados sem efeito - aposentadoria  ORDEM DE SERVICO   \n",
       "4  Atos tornados sem efeito - aposentadoria  ORDEM DE SERVICO   \n",
       "\n",
       "                 processo                dodf_data dodf_num  \\\n",
       "0  00410-00015912/2018-09               11.04.2003       71   \n",
       "1  00080-00190185/2018-84               24/01/2019       17   \n",
       "2                     nan  07 de fevereiro de 2019       12   \n",
       "3        309.000.318/2018   22 de novembro de 2018      222   \n",
       "4    431.00016959/2018-89   20 de novembro de 2018      220   \n",
       "\n",
       "  tornado_sem_efeito_publicacao dodf_pagina  \\\n",
       "0                    11.02.1998         nan   \n",
       "1         18 de janeiro de 2019          17   \n",
       "2       07 de fevereiro de 2019          03   \n",
       "3                   309.000.318         nan   \n",
       "4         18 de outubro de 2018          31   \n",
       "\n",
       "                                servidor  matricula  \\\n",
       "0               CONSTANTINO BARBOSA NETO   39.919-1   \n",
       "1           DANNIEL COSTA MARTINS GARCIA  213.794-1   \n",
       "2     ROSANA DE SOUZA RAIMUNDO GONCALVES   27.724-X   \n",
       "3  CONSUELO ESPERANCA A LV E S FERNANDES   33.348-4   \n",
       "4                   ANA RITA LUIZ COELHO  174.511-5   \n",
       "\n",
       "                                               cargo dodf_tipo_edicao  \n",
       "0                                    Fiscal de Obras           normal  \n",
       "1   ocupante do cargo de Tecnico de Gestao Educac...           normal  \n",
       "2                                Delegada de Policia           normal  \n",
       "3   da Gerencia de Julgamento do Contencioso Admi...           normal  \n",
       "4   ONDE SE LE: \"AVERBAR tempo de servico prestad...           normal  "
      ]
     },
     "execution_count": 11,
     "metadata": {},
     "output_type": "execute_result"
    }
   ],
   "source": [
    "res_final.head()"
   ]
  },
  {
   "cell_type": "code",
   "execution_count": 12,
   "metadata": {},
   "outputs": [],
   "source": [
    "from pathlib import Path\n",
    "p3=Path(\n",
    "    '/home/leomaffei/Desktop/projeto-ia-unb/Regex/txt/2019/01_Jane'\n",
    "    'iro/DODF 009 14-01-2019 INTEGRA.txt'\n",
    ")\n",
    "s0=sea.SemEfeitoAposentadoria(p3)"
   ]
  },
  {
   "cell_type": "code",
   "execution_count": 13,
   "metadata": {},
   "outputs": [
    {
     "data": {
      "text/html": [
       "<div>\n",
       "<style scoped>\n",
       "    .dataframe tbody tr th:only-of-type {\n",
       "        vertical-align: middle;\n",
       "    }\n",
       "\n",
       "    .dataframe tbody tr th {\n",
       "        vertical-align: top;\n",
       "    }\n",
       "\n",
       "    .dataframe thead th {\n",
       "        text-align: right;\n",
       "    }\n",
       "</style>\n",
       "<table border=\"1\" class=\"dataframe\">\n",
       "  <thead>\n",
       "    <tr style=\"text-align: right;\">\n",
       "      <th></th>\n",
       "      <th>tipo_ato</th>\n",
       "      <th>tipo_documento</th>\n",
       "      <th>processo</th>\n",
       "      <th>dodf_data</th>\n",
       "      <th>dodf_num</th>\n",
       "      <th>tornado_sem_efeito_publicacao</th>\n",
       "      <th>dodf_pagina</th>\n",
       "      <th>servidor</th>\n",
       "      <th>matricula</th>\n",
       "      <th>cargo</th>\n",
       "      <th>dodf_tipo_edicao</th>\n",
       "    </tr>\n",
       "  </thead>\n",
       "  <tbody>\n",
       "    <tr>\n",
       "      <th>0</th>\n",
       "      <td>Atos tornados sem efeito - aposentadoria</td>\n",
       "      <td>Ordem de Servico</td>\n",
       "      <td>nan</td>\n",
       "      <td>21 de junho de 2011</td>\n",
       "      <td>120</td>\n",
       "      <td>15 de junho de 2011</td>\n",
       "      <td>. 18</td>\n",
       "      <td>JOSE GERALDO PAIVA</td>\n",
       "      <td>24.840-1</td>\n",
       "      <td>Inspetor Tecnico de Controle Interno</td>\n",
       "      <td>normal</td>\n",
       "    </tr>\n",
       "    <tr>\n",
       "      <th>1</th>\n",
       "      <td>Atos tornados sem efeito - aposentadoria</td>\n",
       "      <td>Portaria</td>\n",
       "      <td>110.000.143/2012</td>\n",
       "      <td>24/11/2016</td>\n",
       "      <td>221</td>\n",
       "      <td>23/11/2016</td>\n",
       "      <td>nan</td>\n",
       "      <td>LUIZ PEDRO CRUCIOL</td>\n",
       "      <td>15.713-9.</td>\n",
       "      <td>Auditor Fiscal de Atividades Urbanas</td>\n",
       "      <td>suplemento</td>\n",
       "    </tr>\n",
       "    <tr>\n",
       "      <th>2</th>\n",
       "      <td>Atos tornados sem efeito - aposentadoria</td>\n",
       "      <td>Ordem de Servico</td>\n",
       "      <td>0 6 0 . 0 0 6 . 4 9 2 / 2 0 11</td>\n",
       "      <td>16/08/2016</td>\n",
       "      <td>154</td>\n",
       "      <td>10/08/2016</td>\n",
       "      <td>nan</td>\n",
       "      <td>MAXIMIANA PEREIRA DOS SANTOS</td>\n",
       "      <td>nan</td>\n",
       "      <td>nan</td>\n",
       "      <td>normal</td>\n",
       "    </tr>\n",
       "    <tr>\n",
       "      <th>3</th>\n",
       "      <td>Atos tornados sem efeito - aposentadoria</td>\n",
       "      <td>Ordem de Servico</td>\n",
       "      <td>00060-00013194/2019-16</td>\n",
       "      <td>07 de agosto de 2018</td>\n",
       "      <td>149</td>\n",
       "      <td>06 de agosto de 2018</td>\n",
       "      <td>42</td>\n",
       "      <td>VALDEILDE MARIA DE SENA</td>\n",
       "      <td>1350471</td>\n",
       "      <td>Auxiliar de Enfermagem na Ordem de Servico</td>\n",
       "      <td>normal</td>\n",
       "    </tr>\n",
       "  </tbody>\n",
       "</table>\n",
       "</div>"
      ],
      "text/plain": [
       "                                   tipo_ato    tipo_documento  \\\n",
       "0  Atos tornados sem efeito - aposentadoria  Ordem de Servico   \n",
       "1  Atos tornados sem efeito - aposentadoria          Portaria   \n",
       "2  Atos tornados sem efeito - aposentadoria  Ordem de Servico   \n",
       "3  Atos tornados sem efeito - aposentadoria  Ordem de Servico   \n",
       "\n",
       "                         processo             dodf_data dodf_num  \\\n",
       "0                             nan   21 de junho de 2011      120   \n",
       "1                110.000.143/2012            24/11/2016      221   \n",
       "2  0 6 0 . 0 0 6 . 4 9 2 / 2 0 11            16/08/2016      154   \n",
       "3          00060-00013194/2019-16  07 de agosto de 2018      149   \n",
       "\n",
       "  tornado_sem_efeito_publicacao dodf_pagina                       servidor  \\\n",
       "0           15 de junho de 2011        . 18             JOSE GERALDO PAIVA   \n",
       "1                    23/11/2016         nan             LUIZ PEDRO CRUCIOL   \n",
       "2                    10/08/2016         nan   MAXIMIANA PEREIRA DOS SANTOS   \n",
       "3          06 de agosto de 2018          42        VALDEILDE MARIA DE SENA   \n",
       "\n",
       "    matricula                                        cargo dodf_tipo_edicao  \n",
       "0    24.840-1         Inspetor Tecnico de Controle Interno           normal  \n",
       "1  15.713-9.          Auditor Fiscal de Atividades Urbanas       suplemento  \n",
       "2         nan                                          nan           normal  \n",
       "3     1350471   Auxiliar de Enfermagem na Ordem de Servico           normal  "
      ]
     },
     "execution_count": 13,
     "metadata": {},
     "output_type": "execute_result"
    }
   ],
   "source": [
    "s0.data_frame"
   ]
  }
 ],
 "metadata": {
  "kernelspec": {
   "display_name": "Python 3",
   "language": "python",
   "name": "python3"
  },
  "language_info": {
   "codemirror_mode": {
    "name": "ipython",
    "version": 3
   },
   "file_extension": ".py",
   "mimetype": "text/x-python",
   "name": "python",
   "nbconvert_exporter": "python",
   "pygments_lexer": "ipython3",
   "version": "3.8.1"
  }
 },
 "nbformat": 4,
 "nbformat_minor": 4
}
