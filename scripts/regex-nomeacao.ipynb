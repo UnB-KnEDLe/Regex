{
 "cells": [
  {
   "cell_type": "code",
   "execution_count": 102,
   "metadata": {},
   "outputs": [],
   "source": [
    "import os\n",
    "import sys\n",
    "module_path = os.path.abspath(os.path.join('..'))\n",
    "if module_path not in sys.path:\n",
    "    sys.path.append(module_path)"
   ]
  },
  {
   "cell_type": "code",
   "execution_count": 103,
   "metadata": {},
   "outputs": [],
   "source": [
    "import re\n",
    "import pandas as pd\n",
    "from regex.atos.base import Regex\n",
    "from os import listdir\n",
    "from os.path import isfile, join"
   ]
  },
  {
   "cell_type": "code",
   "execution_count": 104,
   "metadata": {},
   "outputs": [
    {
     "output_type": "execute_result",
     "data": {
      "text/plain": "<pandas.io.formats.style.Styler at 0x10c9ef890>",
      "text/html": "<style  type=\"text/css\" >\n    #T_e0df6252_a5c6_11ea_90a0_784f43715d3e th {\n          text-align: left;\n    }    #T_e0df6252_a5c6_11ea_90a0_784f43715d3erow0_col0 {\n            text-align:  left;\n        }    #T_e0df6252_a5c6_11ea_90a0_784f43715d3erow0_col1 {\n            text-align:  left;\n        }    #T_e0df6252_a5c6_11ea_90a0_784f43715d3erow0_col2 {\n            text-align:  left;\n        }    #T_e0df6252_a5c6_11ea_90a0_784f43715d3erow1_col0 {\n            text-align:  left;\n        }    #T_e0df6252_a5c6_11ea_90a0_784f43715d3erow1_col1 {\n            text-align:  left;\n        }    #T_e0df6252_a5c6_11ea_90a0_784f43715d3erow1_col2 {\n            text-align:  left;\n        }    #T_e0df6252_a5c6_11ea_90a0_784f43715d3erow2_col0 {\n            text-align:  left;\n        }    #T_e0df6252_a5c6_11ea_90a0_784f43715d3erow2_col1 {\n            text-align:  left;\n        }    #T_e0df6252_a5c6_11ea_90a0_784f43715d3erow2_col2 {\n            text-align:  left;\n        }</style><table id=\"T_e0df6252_a5c6_11ea_90a0_784f43715d3e\" ><thead>    <tr>        <th class=\"blank level0\" ></th>        <th class=\"col_heading level0 col0\" >Atos</th>        <th class=\"col_heading level0 col1\" >Regex</th>        <th class=\"col_heading level0 col2\" >Multiplos</th>    </tr></thead><tbody>\n                <tr>\n                        <th id=\"T_e0df6252_a5c6_11ea_90a0_784f43715d3elevel0_row0\" class=\"row_heading level0 row0\" >4</th>\n                        <td id=\"T_e0df6252_a5c6_11ea_90a0_784f43715d3erow0_col0\" class=\"data row0 col0\" >Aposentadorias</td>\n                        <td id=\"T_e0df6252_a5c6_11ea_90a0_784f43715d3erow0_col1\" class=\"data row0 col1\" >'CONCEDER', 'APOSENTAR'</td>\n                        <td id=\"T_e0df6252_a5c6_11ea_90a0_784f43715d3erow0_col2\" class=\"data row0 col2\" >Não</td>\n            </tr>\n            <tr>\n                        <th id=\"T_e0df6252_a5c6_11ea_90a0_784f43715d3elevel0_row1\" class=\"row_heading level0 row1\" >5</th>\n                        <td id=\"T_e0df6252_a5c6_11ea_90a0_784f43715d3erow1_col0\" class=\"data row1 col0\" >Reversões</td>\n                        <td id=\"T_e0df6252_a5c6_11ea_90a0_784f43715d3erow1_col1\" class=\"data row1 col1\" >REVERTER A ATIVIDADE</td>\n                        <td id=\"T_e0df6252_a5c6_11ea_90a0_784f43715d3erow1_col2\" class=\"data row1 col2\" >Não</td>\n            </tr>\n            <tr>\n                        <th id=\"T_e0df6252_a5c6_11ea_90a0_784f43715d3elevel0_row2\" class=\"row_heading level0 row2\" >6</th>\n                        <td id=\"T_e0df6252_a5c6_11ea_90a0_784f43715d3erow2_col0\" class=\"data row2 col0\" >Atos tonados sem efeitos (Aposentadoria)</td>\n                        <td id=\"T_e0df6252_a5c6_11ea_90a0_784f43715d3erow2_col1\" class=\"data row2 col1\" >TORNAR SEM EFEITO</td>\n                        <td id=\"T_e0df6252_a5c6_11ea_90a0_784f43715d3erow2_col2\" class=\"data row2 col2\" >Sim</td>\n            </tr>\n    </tbody></table>"
     },
     "metadata": {},
     "execution_count": 104
    }
   ],
   "source": [
    "df = pd.DataFrame([[\"Aposentadorias\", \"'CONCEDER', 'APOSENTAR'\", \"Não\"],\n",
    "                  [\"Reversões\", \"REVERTER A ATIVIDADE\", \"Não\"],\n",
    "                  [\"Atos tonados sem efeitos (Aposentadoria)\", \"TORNAR SEM EFEITO\", \"Sim\"]],\n",
    "                  index = [4, 5, 6],\n",
    "                  columns = [\"Atos\", \"Regex\", \"Multiplos\"])\n",
    "\n",
    "style_df = pd.DataFrame(df).style.set_properties(**{'text-align': 'left'}).set_table_styles([ dict(selector='th', props=[('text-align','left')] ) ])\n",
    "style_df"
   ]
  },
  {
   "cell_type": "code",
   "execution_count": 105,
   "metadata": {},
   "outputs": [],
   "source": [
    "def print_dataframe(df):\n",
    "    style_df = (df.style.set_properties(**{'text-align': 'left'})\n",
    "                                        .set_table_styles([ dict(selector='th',\n",
    "                                                                 props=[('text-align','left')])])\n",
    "                   )\n",
    "    return style_df\n",
    "\n",
    "def get_txts(path):\n",
    "    years = [join(path, x) for x in listdir(path) if not isfile(join(path, x))]\n",
    "    txts = []\n",
    "    for year in years:\n",
    "        months = [join(year, x) for x in listdir(year) if not isfile(join(year, x))]\n",
    "        for month in months:\n",
    "            txts += [join(month, x) for x in listdir(month) if isfile(join(month, x))]\n",
    "    return txts"
   ]
  },
  {
   "cell_type": "code",
   "execution_count": null,
   "metadata": {},
   "outputs": [],
   "source": []
  },
  {
   "cell_type": "code",
   "execution_count": 116,
   "metadata": {},
   "outputs": [],
   "source": [
    "dodfs_space_dir = \"../data/dodfs_txt_espaco\"\n",
    "dodfs_space_files = get_txts(dodfs_space_dir)\n",
    "\n",
    "dodfs_n_dir = \"../data/dodfs_txt_barra_n\"\n",
    "dodfs_n_files = get_txts(dodfs_n_dir)\n",
    "\n",
    "output = \"./results\""
   ]
  },
  {
   "cell_type": "code",
   "execution_count": 117,
   "metadata": {},
   "outputs": [],
   "source": [
    "# class Regex:\n",
    "    \n",
    "#     def __init__(self, text):\n",
    "#         self._text = text\n",
    "#         self._raw_acts = {}\n",
    "#         self._acts = []\n",
    "#         self._columns = []\n",
    "#         self.data_frame = pd.DataFrame()\n",
    "    \n",
    "#     def find_all(self, rule, flag=0):\n",
    "#         return re.findall(rule, self._text, flags=flag)\n",
    "    \n",
    "#     def find_in_act(self, rule, act):\n",
    "#         match = re.search(rule, act) \n",
    "#         if match:\n",
    "#             return match.groups()\n",
    "#         return \"nan\"\n",
    "    \n",
    "#     def _build_dataframe(self):\n",
    "#         if len(self._acts) > 0:\n",
    "#             df = pd.DataFrame(self._acts, columns=self._columns)\n",
    "#             #df.columns = self._columns\n",
    "#             return df\n",
    "#         return pd.DataFrame()"
   ]
  },
  {
   "cell_type": "markdown",
   "metadata": {},
   "source": [
    "# Nomeação"
   ]
  },
  {
   "cell_type": "code",
   "execution_count": 118,
   "metadata": {},
   "outputs": [],
   "source": [
    "# Classe Nomeação para cargos comissionados\n",
    "class NomeacaoComissionados(Regex):\n",
    "    \n",
    "    def __init__(self,text):\n",
    "        super().__init__(text)\n",
    "        self._columns = ['nome','cargo_efetivo','matricula','siape','simbolo','cargo_comissao','lotacao','orgao']\n",
    "        self.rules = {\n",
    "            \"nome\": r\"(^[A-ZÀ-Ž\\s]+[A-ZÀ-Ž])\",\n",
    "            \"cargo_efetivo\": r\"\",\n",
    "            \"matricula\": r\"matr[í|i]cula\\s?n?o?\\s([\\s\\S]*?)[,|\\s]\",\n",
    "            \"siape\": r\"[S|s][I|i][A|a][P|p][E|e]\\s[N|n]?[o|O]?\\s([\\s\\S]*?)[,| | .]\",\n",
    "            \"simbolo\": r\"[S|s][í|i]mbolo\\s?n?o?\\s([\\s\\S]*?)[,|\\s]\",\n",
    "            \"cargo_comissao\": \"\",\n",
    "            \"lotacao\": \"\",\n",
    "            \"orgao\": \"\"\n",
    "        }\n",
    "        self._raw_acts = self._extract_instances()\n",
    "        self._acts = self._acts_props()\n",
    "        self.data_frame = self._build_dataframe()\n",
    "        \n",
    "        \n",
    "    \n",
    "    def _act_props(self, act_raw):\n",
    "        act = {}\n",
    "        for key in self.rules:\n",
    "            try:\n",
    "                act[key], = self.find_in_act(self.rules[key], act_raw)\n",
    "            except:\n",
    "                act[key] = \"nan\"\n",
    "        return act\n",
    "    \n",
    "    def _acts_props(self):\n",
    "        acts = []\n",
    "        for raw in self._raw_acts:\n",
    "            act = self._act_props(raw)\n",
    "            acts.append(act)\n",
    "        return acts        \n",
    "        \n",
    "    def _extract_instances(self):\n",
    "        start = r\"(NOMEAR)\"\n",
    "        body = r\"([\\s\\S]*?)\"\n",
    "        end = \"\\.\"\n",
    "        rule = start + body + end\n",
    "        found = self.find_all(rule)\n",
    "        results = []\n",
    "        for instance in found:\n",
    "            start, body = instance\n",
    "            results.append(body)\n",
    "            \n",
    "        return results"
   ]
  },
  {
   "cell_type": "code",
   "execution_count": 119,
   "metadata": {
    "scrolled": false
   },
   "outputs": [],
   "source": [
    "res_dfs = []\n",
    "l_ret = []\n",
    "for txt in dodfs_n_files:\n",
    "    txt_str = open(txt, \"r\").read()\n",
    "    ret = NomeacaoComissionados(txt_str)\n",
    "    l_ret.append(ret)\n",
    "    if not ret.data_frame.empty:\n",
    "        res_dfs.append(ret.data_frame)\n",
    "\n",
    "rets_final = pd.concat([pd.DataFrame(df) for df in res_dfs],\n",
    "                        ignore_index=True)\n",
    "#print_dataframe(rets_final)\n"
   ]
  },
  {
   "cell_type": "code",
   "execution_count": 120,
   "metadata": {},
   "outputs": [
    {
     "output_type": "execute_result",
     "data": {
      "text/plain": "' LEA GRAZIELA NUNES PORTELA MELO, Enfermeiro, matricula 159'"
     },
     "metadata": {},
     "execution_count": 120
    }
   ],
   "source": [
    "l_ret[0]._raw_acts[13]"
   ]
  },
  {
   "cell_type": "code",
   "execution_count": 121,
   "metadata": {},
   "outputs": [
    {
     "output_type": "execute_result",
     "data": {
      "text/plain": "{'nome': ' LEA GRAZIELA NUNES PORTELA MELO',\n 'cargo_efetivo': 'nan',\n 'matricula': 'nan',\n 'siape': 'nan',\n 'simbolo': 'nan',\n 'cargo_comissao': 'nan',\n 'lotacao': 'nan',\n 'orgao': 'nan'}"
     },
     "metadata": {},
     "execution_count": 121
    }
   ],
   "source": [
    "l_ret[0]._acts[13]"
   ]
  },
  {
   "cell_type": "code",
   "execution_count": 123,
   "metadata": {},
   "outputs": [
    {
     "output_type": "execute_result",
     "data": {
      "text/plain": "Empty DataFrame\nColumns: []\nIndex: []",
      "text/html": "<div>\n<style scoped>\n    .dataframe tbody tr th:only-of-type {\n        vertical-align: middle;\n    }\n\n    .dataframe tbody tr th {\n        vertical-align: top;\n    }\n\n    .dataframe thead th {\n        text-align: right;\n    }\n</style>\n<table border=\"1\" class=\"dataframe\">\n  <thead>\n    <tr style=\"text-align: right;\">\n      <th></th>\n    </tr>\n  </thead>\n  <tbody>\n  </tbody>\n</table>\n</div>"
     },
     "metadata": {},
     "execution_count": 123
    }
   ],
   "source": [
    "def _build_dataframe(_acts, _columns):\n",
    "    if len(_acts) > 0:\n",
    "        df = pd.DataFrame(_acts)\n",
    "        df.columns = _columns\n",
    "        return df\n",
    "    return pd.DataFrame()\n",
    "_build_dataframe(ret._acts, ret._columns)"
   ]
  },
  {
   "cell_type": "code",
   "execution_count": 124,
   "metadata": {},
   "outputs": [
    {
     "output_type": "execute_result",
     "data": {
      "text/plain": "                                     nome cargo_efetivo  matricula siape  \\\n0                  SILVIA SANTOS DA SILVA           nan        nan   nan   \n1                 THIAGO MARINHO EUFRASIO           nan  1682167-X   nan   \n2   MARGARETE ALCANTARA DA FONSECA ARIOZA           nan        nan   nan   \n3         DORIS APARECIDA COSTA RODRIGUES           nan        nan   nan   \n4                    JOAO GERALDO PEREIRA           nan        nan   nan   \n\n  simbolo cargo_comissao lotacao orgao  \n0  CNE-07            nan     nan   nan  \n1  DFG-12            nan     nan   nan  \n2     nan            nan     nan   nan  \n3     nan            nan     nan   nan  \n4     nan            nan     nan   nan  ",
      "text/html": "<div>\n<style scoped>\n    .dataframe tbody tr th:only-of-type {\n        vertical-align: middle;\n    }\n\n    .dataframe tbody tr th {\n        vertical-align: top;\n    }\n\n    .dataframe thead th {\n        text-align: right;\n    }\n</style>\n<table border=\"1\" class=\"dataframe\">\n  <thead>\n    <tr style=\"text-align: right;\">\n      <th></th>\n      <th>nome</th>\n      <th>cargo_efetivo</th>\n      <th>matricula</th>\n      <th>siape</th>\n      <th>simbolo</th>\n      <th>cargo_comissao</th>\n      <th>lotacao</th>\n      <th>orgao</th>\n    </tr>\n  </thead>\n  <tbody>\n    <tr>\n      <th>0</th>\n      <td>SILVIA SANTOS DA SILVA</td>\n      <td>nan</td>\n      <td>nan</td>\n      <td>nan</td>\n      <td>CNE-07</td>\n      <td>nan</td>\n      <td>nan</td>\n      <td>nan</td>\n    </tr>\n    <tr>\n      <th>1</th>\n      <td>THIAGO MARINHO EUFRASIO</td>\n      <td>nan</td>\n      <td>1682167-X</td>\n      <td>nan</td>\n      <td>DFG-12</td>\n      <td>nan</td>\n      <td>nan</td>\n      <td>nan</td>\n    </tr>\n    <tr>\n      <th>2</th>\n      <td>MARGARETE ALCANTARA DA FONSECA ARIOZA</td>\n      <td>nan</td>\n      <td>nan</td>\n      <td>nan</td>\n      <td>nan</td>\n      <td>nan</td>\n      <td>nan</td>\n      <td>nan</td>\n    </tr>\n    <tr>\n      <th>3</th>\n      <td>DORIS APARECIDA COSTA RODRIGUES</td>\n      <td>nan</td>\n      <td>nan</td>\n      <td>nan</td>\n      <td>nan</td>\n      <td>nan</td>\n      <td>nan</td>\n      <td>nan</td>\n    </tr>\n    <tr>\n      <th>4</th>\n      <td>JOAO GERALDO PEREIRA</td>\n      <td>nan</td>\n      <td>nan</td>\n      <td>nan</td>\n      <td>nan</td>\n      <td>nan</td>\n      <td>nan</td>\n      <td>nan</td>\n    </tr>\n  </tbody>\n</table>\n</div>"
     },
     "metadata": {},
     "execution_count": 124
    }
   ],
   "source": [
    "rets_final.head()"
   ]
  }
 ],
 "metadata": {
  "kernelspec": {
   "display_name": "Python 3",
   "language": "python",
   "name": "python3"
  }
 },
 "nbformat": 4,
 "nbformat_minor": 2
}