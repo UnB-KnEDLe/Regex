{
 "cells": [
  {
   "cell_type": "markdown",
   "metadata": {},
   "source": [
    "## Imports"
   ]
  },
  {
   "cell_type": "code",
   "execution_count": 1,
   "metadata": {},
   "outputs": [],
   "source": [
    "import os\n",
    "import sys\n",
    "module_path = os.path.abspath(os.path.join('../regex'))\n",
    "if module_path not in sys.path:\n",
    "    sys.path.append(module_path)"
   ]
  },
  {
   "cell_type": "code",
   "execution_count": 2,
   "metadata": {},
   "outputs": [],
   "source": [
    "import re\n",
    "import helper\n",
    "import pandas as pd\n",
    "import matplotlib.pyplot as plt\n",
    "from matplotlib.pyplot import figure\n",
    "import math"
   ]
  },
  {
   "cell_type": "markdown",
   "metadata": {},
   "source": [
    "# Dataframe Aposentadoria"
   ]
  },
  {
   "cell_type": "code",
   "execution_count": 3,
   "metadata": {},
   "outputs": [
    {
     "output_type": "execute_result",
     "data": {
      "text/plain": "           Tipo                               Nome        Cargo Efetivo  \\\n0      Nomeação       INEZ CRISTINA ORTEGA CARDOSO                  nan   \n1      Nomeação                 WALLACE DOS SANTOS        Nutricionista   \n2      Nomeação               CLAUDIA MENDES FERES            Psicologa   \n3      Nomeação   SILVIA ANGELISE SOUZA DE ALMEIDA           Enfermeira   \n4      Nomeação          GLEIDSON VIANA DOS SANTOS  Medico Radiologista   \n...         ...                                ...                  ...   \n28318  Nomeação        FELIPE MOUTINHO DE OLIVEIRA                  nan   \n28319  Nomeação     THIAGO VINICIUS PINHEIRO SILVA                  nan   \n28320  Nomeação           SIDNEY FERREIRA DE SOUSA                  nan   \n28321  Nomeação            VALDIRENE SANTOS FARIAS                  nan   \n28322  Nomeação                                nan                  nan   \n\n         Matricula Siape Simbolo                               Cargo Comissao  \\\n0        156.845-0   nan  CNE-07                                      Diretor   \n1      1.662.372-X   nan  CNE-07                                      Diretor   \n2        196.446-1   nan  DFG-11                                      Gerente   \n3              nan   nan  DFG-05   Supervisor de Servicos de Atencao Primaria   \n4        185.985-4   nan  DFG-14                                      Gerente   \n...            ...   ...     ...                                          ...   \n28318          nan   nan  DFA-17                                     Assessor   \n28319          nan   nan  CNE-02                                Subsecretario   \n28320          nan   nan  DFG-14                                     Assessor   \n28321          nan   nan  DFG-14                                      Gerente   \n28322          nan   nan  DFG-14                                      Gerente   \n\n                                                 Lotacao  \\\n0      Diretoria de Atencao a Saude, do Hospital Sao\\...   \n1      Diretoria Regional de Atencao Primaria a Saude...   \n2      Gerencia de Acesso e Qualidade em Atencao Prim...   \n3      Gerencia de\\nServicos de Atencao Primaria no 4...   \n4      Gerencia de Servicos de Apoio Diagnostico, da\\...   \n...                                                  ...   \n28318                                  Diretoria Tecnica   \n28319  Subsecretaria de Administracao Geral, do Gabinete   \n28320  Diretoria de Licitacao, da Subsecretaria de\\nA...   \n28321  Fundo de Aparelhamento da Defensoria Publica d...   \n28322  Gerencia de Contabilidade, da Diretoria de Orc...   \n\n                                                   Orgao  \n0      Secretaria de Estado de Saude do Distrito Federal  \n1      Secretaria de Estado de Saude do Distrito Federal  \n2      Secretaria de Estado de Saude do Distrito Federal  \n3      Secretaria de Estado de Saude do Distrito Federal  \n4      Secretaria de Estado de Saude\\ndo Distrito Fed...  \n...                                                  ...  \n28318  Servico de Limpeza Urbana do Distrito Federal ...  \n28319                    Casa Civil do\\nDistrito Federal  \n28320             Defensoria Publica do Distrito Federal  \n28321             Defensoria Publica do Distrito Federal  \n28322            Defensoria Publica do Distrito\\nFederal  \n\n[28323 rows x 9 columns]",
      "text/html": "<div>\n<style scoped>\n    .dataframe tbody tr th:only-of-type {\n        vertical-align: middle;\n    }\n\n    .dataframe tbody tr th {\n        vertical-align: top;\n    }\n\n    .dataframe thead th {\n        text-align: right;\n    }\n</style>\n<table border=\"1\" class=\"dataframe\">\n  <thead>\n    <tr style=\"text-align: right;\">\n      <th></th>\n      <th>Tipo</th>\n      <th>Nome</th>\n      <th>Cargo Efetivo</th>\n      <th>Matricula</th>\n      <th>Siape</th>\n      <th>Simbolo</th>\n      <th>Cargo Comissao</th>\n      <th>Lotacao</th>\n      <th>Orgao</th>\n    </tr>\n  </thead>\n  <tbody>\n    <tr>\n      <th>0</th>\n      <td>Nomeação</td>\n      <td>INEZ CRISTINA ORTEGA CARDOSO</td>\n      <td>nan</td>\n      <td>156.845-0</td>\n      <td>nan</td>\n      <td>CNE-07</td>\n      <td>Diretor</td>\n      <td>Diretoria de Atencao a Saude, do Hospital Sao\\...</td>\n      <td>Secretaria de Estado de Saude do Distrito Federal</td>\n    </tr>\n    <tr>\n      <th>1</th>\n      <td>Nomeação</td>\n      <td>WALLACE DOS SANTOS</td>\n      <td>Nutricionista</td>\n      <td>1.662.372-X</td>\n      <td>nan</td>\n      <td>CNE-07</td>\n      <td>Diretor</td>\n      <td>Diretoria Regional de Atencao Primaria a Saude...</td>\n      <td>Secretaria de Estado de Saude do Distrito Federal</td>\n    </tr>\n    <tr>\n      <th>2</th>\n      <td>Nomeação</td>\n      <td>CLAUDIA MENDES FERES</td>\n      <td>Psicologa</td>\n      <td>196.446-1</td>\n      <td>nan</td>\n      <td>DFG-11</td>\n      <td>Gerente</td>\n      <td>Gerencia de Acesso e Qualidade em Atencao Prim...</td>\n      <td>Secretaria de Estado de Saude do Distrito Federal</td>\n    </tr>\n    <tr>\n      <th>3</th>\n      <td>Nomeação</td>\n      <td>SILVIA ANGELISE SOUZA DE ALMEIDA</td>\n      <td>Enfermeira</td>\n      <td>nan</td>\n      <td>nan</td>\n      <td>DFG-05</td>\n      <td>Supervisor de Servicos de Atencao Primaria</td>\n      <td>Gerencia de\\nServicos de Atencao Primaria no 4...</td>\n      <td>Secretaria de Estado de Saude do Distrito Federal</td>\n    </tr>\n    <tr>\n      <th>4</th>\n      <td>Nomeação</td>\n      <td>GLEIDSON VIANA DOS SANTOS</td>\n      <td>Medico Radiologista</td>\n      <td>185.985-4</td>\n      <td>nan</td>\n      <td>DFG-14</td>\n      <td>Gerente</td>\n      <td>Gerencia de Servicos de Apoio Diagnostico, da\\...</td>\n      <td>Secretaria de Estado de Saude\\ndo Distrito Fed...</td>\n    </tr>\n    <tr>\n      <th>...</th>\n      <td>...</td>\n      <td>...</td>\n      <td>...</td>\n      <td>...</td>\n      <td>...</td>\n      <td>...</td>\n      <td>...</td>\n      <td>...</td>\n      <td>...</td>\n    </tr>\n    <tr>\n      <th>28318</th>\n      <td>Nomeação</td>\n      <td>FELIPE MOUTINHO DE OLIVEIRA</td>\n      <td>nan</td>\n      <td>nan</td>\n      <td>nan</td>\n      <td>DFA-17</td>\n      <td>Assessor</td>\n      <td>Diretoria Tecnica</td>\n      <td>Servico de Limpeza Urbana do Distrito Federal ...</td>\n    </tr>\n    <tr>\n      <th>28319</th>\n      <td>Nomeação</td>\n      <td>THIAGO VINICIUS PINHEIRO SILVA</td>\n      <td>nan</td>\n      <td>nan</td>\n      <td>nan</td>\n      <td>CNE-02</td>\n      <td>Subsecretario</td>\n      <td>Subsecretaria de Administracao Geral, do Gabinete</td>\n      <td>Casa Civil do\\nDistrito Federal</td>\n    </tr>\n    <tr>\n      <th>28320</th>\n      <td>Nomeação</td>\n      <td>SIDNEY FERREIRA DE SOUSA</td>\n      <td>nan</td>\n      <td>nan</td>\n      <td>nan</td>\n      <td>DFG-14</td>\n      <td>Assessor</td>\n      <td>Diretoria de Licitacao, da Subsecretaria de\\nA...</td>\n      <td>Defensoria Publica do Distrito Federal</td>\n    </tr>\n    <tr>\n      <th>28321</th>\n      <td>Nomeação</td>\n      <td>VALDIRENE SANTOS FARIAS</td>\n      <td>nan</td>\n      <td>nan</td>\n      <td>nan</td>\n      <td>DFG-14</td>\n      <td>Gerente</td>\n      <td>Fundo de Aparelhamento da Defensoria Publica d...</td>\n      <td>Defensoria Publica do Distrito Federal</td>\n    </tr>\n    <tr>\n      <th>28322</th>\n      <td>Nomeação</td>\n      <td>nan</td>\n      <td>nan</td>\n      <td>nan</td>\n      <td>nan</td>\n      <td>DFG-14</td>\n      <td>Gerente</td>\n      <td>Gerencia de Contabilidade, da Diretoria de Orc...</td>\n      <td>Defensoria Publica do Distrito\\nFederal</td>\n    </tr>\n  </tbody>\n</table>\n<p>28323 rows × 9 columns</p>\n</div>"
     },
     "metadata": {},
     "execution_count": 3
    }
   ],
   "source": [
    "files = helper.get_files_path(\"../data/dodfs_txt_barra_n/\")\n",
    "rets_final = helper.extract_multiple(files, \"nomeacao\", True, \"../results/\")\n",
    "rets_final"
   ]
  },
  {
   "cell_type": "markdown",
   "metadata": {},
   "source": [
    "# Análise"
   ]
  },
  {
   "cell_type": "code",
   "execution_count": 56,
   "metadata": {},
   "outputs": [],
   "source": [
    "def attribute_stats(name, rets_final):\n",
    "    presence_name = rets_final[name].value_counts()\n",
    "    total = rets_final.count()\n",
    "    labels = [\"Com \" + name, \"Sem \" + name]\n",
    "    size = [total[name] - presence_name[0], presence_name[0]]\n",
    "    return size, labels"
   ]
  },
  {
   "cell_type": "code",
   "execution_count": 78,
   "metadata": {},
   "outputs": [
    {
     "output_type": "error",
     "ename": "IndexError",
     "evalue": "index 2 is out of bounds for axis 0 with size 2",
     "traceback": [
      "\u001b[0;31m---------------------------------------------------------------------------\u001b[0m",
      "\u001b[0;31mIndexError\u001b[0m                                Traceback (most recent call last)",
      "\u001b[0;32m<ipython-input-78-77518e777327>\u001b[0m in \u001b[0;36m<module>\u001b[0;34m\u001b[0m\n\u001b[1;32m     11\u001b[0m     \u001b[0;32mif\u001b[0m \u001b[0mi\u001b[0m \u001b[0;34m<\u001b[0m \u001b[0mnumb_attr\u001b[0m\u001b[0;34m:\u001b[0m\u001b[0;34m\u001b[0m\u001b[0;34m\u001b[0m\u001b[0m\n\u001b[1;32m     12\u001b[0m         \u001b[0msize\u001b[0m\u001b[0;34m,\u001b[0m \u001b[0mlabels\u001b[0m \u001b[0;34m=\u001b[0m \u001b[0mattribute_stats\u001b[0m\u001b[0;34m(\u001b[0m\u001b[0mnames\u001b[0m\u001b[0;34m[\u001b[0m\u001b[0mi\u001b[0m\u001b[0;34m]\u001b[0m\u001b[0;34m,\u001b[0m \u001b[0mrets_final\u001b[0m\u001b[0;34m)\u001b[0m\u001b[0;34m\u001b[0m\u001b[0;34m\u001b[0m\u001b[0m\n\u001b[0;32m---> 13\u001b[0;31m         \u001b[0max\u001b[0m\u001b[0;34m[\u001b[0m\u001b[0mmath\u001b[0m\u001b[0;34m.\u001b[0m\u001b[0mfloor\u001b[0m\u001b[0;34m(\u001b[0m\u001b[0mi\u001b[0m\u001b[0;34m/\u001b[0m\u001b[0;36m2\u001b[0m\u001b[0;34m)\u001b[0m\u001b[0;34m,\u001b[0m \u001b[0mi\u001b[0m\u001b[0;34m%\u001b[0m\u001b[0;36m2\u001b[0m\u001b[0;34m]\u001b[0m\u001b[0;34m.\u001b[0m\u001b[0mpie\u001b[0m\u001b[0;34m(\u001b[0m\u001b[0msize\u001b[0m\u001b[0;34m,\u001b[0m \u001b[0mlabels\u001b[0m\u001b[0;34m=\u001b[0m\u001b[0mlabels\u001b[0m\u001b[0;34m,\u001b[0m \u001b[0mautopct\u001b[0m\u001b[0;34m=\u001b[0m\u001b[0;34m'%1.1f%%'\u001b[0m\u001b[0;34m,\u001b[0m \u001b[0mstartangle\u001b[0m\u001b[0;34m=\u001b[0m\u001b[0;36m90\u001b[0m\u001b[0;34m,\u001b[0m \u001b[0mcolors\u001b[0m\u001b[0;34m=\u001b[0m\u001b[0mcor\u001b[0m\u001b[0;34m)\u001b[0m\u001b[0;34m\u001b[0m\u001b[0;34m\u001b[0m\u001b[0m\n\u001b[0m\u001b[1;32m     14\u001b[0m         \u001b[0max\u001b[0m\u001b[0;34m[\u001b[0m\u001b[0mmath\u001b[0m\u001b[0;34m.\u001b[0m\u001b[0mfloor\u001b[0m\u001b[0;34m(\u001b[0m\u001b[0mi\u001b[0m\u001b[0;34m/\u001b[0m\u001b[0;36m2\u001b[0m\u001b[0;34m)\u001b[0m\u001b[0;34m,\u001b[0m \u001b[0mi\u001b[0m\u001b[0;34m%\u001b[0m\u001b[0;36m2\u001b[0m\u001b[0;34m]\u001b[0m\u001b[0;34m.\u001b[0m\u001b[0mlegend\u001b[0m\u001b[0;34m(\u001b[0m\u001b[0mlabels\u001b[0m\u001b[0;34m,\u001b[0m \u001b[0mtitle\u001b[0m\u001b[0;34m=\u001b[0m\u001b[0;34m\"Presença\"\u001b[0m\u001b[0;34m,\u001b[0m \u001b[0mloc\u001b[0m\u001b[0;34m=\u001b[0m\u001b[0;34m'center left'\u001b[0m\u001b[0;34m,\u001b[0m \u001b[0mbbox_to_anchor\u001b[0m\u001b[0;34m=\u001b[0m\u001b[0;34m(\u001b[0m\u001b[0;36m1.3\u001b[0m\u001b[0;34m,\u001b[0m \u001b[0;36m0\u001b[0m\u001b[0;34m,\u001b[0m \u001b[0;36m0.5\u001b[0m\u001b[0;34m,\u001b[0m \u001b[0;36m1\u001b[0m\u001b[0;34m)\u001b[0m\u001b[0;34m)\u001b[0m\u001b[0;34m\u001b[0m\u001b[0;34m\u001b[0m\u001b[0m\n\u001b[1;32m     15\u001b[0m     \u001b[0;32melse\u001b[0m\u001b[0;34m:\u001b[0m\u001b[0;34m\u001b[0m\u001b[0;34m\u001b[0m\u001b[0m\n",
      "\u001b[0;31mIndexError\u001b[0m: index 2 is out of bounds for axis 0 with size 2"
     ]
    }
   ],
   "source": [
    "\n",
    "cor = ['#1b9aaa', '#06d6a0']\n",
    "numb_attr = rets_final.shape[1]-1\n",
    "grid_square = math.ceil(numb_attr/2)\n",
    "\n",
    "grid_square = int(grid_square)\n",
    "_, ax = plt.subplots(2, grid_square, figsize=(15,15))\n",
    "names = rets_final.columns[1:]\n",
    "for i in range(grid_square*2):\n",
    "    if i < numb_attr:\n",
    "        size, labels = attribute_stats(names[i], rets_final)\n",
    "        ax[math.floor(i/2), i%2].pie(size, labels=labels, autopct='%1.1f%%', startangle=90, colors=cor)\n",
    "        ax[math.floor(i/2), i%2].legend(labels, title=\"Presença\", loc='center left', bbox_to_anchor=(1.3, 0, 0.5, 1))\n",
    "    else:\n",
    "        ax[math.floor(i/2), i%2].axis('off')\n",
    "\n",
    "plt.tight_layout()\n",
    "plt.show()"
   ]
  }
 ],
 "metadata": {
  "kernelspec": {
   "display_name": "Python 3",
   "language": "python",
   "name": "python3"
  },
  "language_info": {
   "codemirror_mode": {
    "name": "ipython",
    "version": 3
   },
   "file_extension": ".py",
   "mimetype": "text/x-python",
   "name": "python",
   "nbconvert_exporter": "python",
   "pygments_lexer": "ipython3",
   "version": "3.6.9-final"
  }
 },
 "nbformat": 4,
 "nbformat_minor": 4
}