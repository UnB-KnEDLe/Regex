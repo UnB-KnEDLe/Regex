{
 "cells": [
  {
   "cell_type": "markdown",
   "metadata": {},
   "source": [
    "## Imports"
   ]
  },
  {
   "cell_type": "code",
   "execution_count": null,
   "metadata": {},
   "outputs": [],
   "source": [
    "import os\n",
    "import sys\n",
    "module_path = os.path.abspath(os.path.join('../regex'))\n",
    "if module_path not in sys.path:\n",
    "    sys.path.append(module_path)"
   ]
  },
  {
   "cell_type": "code",
   "execution_count": null,
   "metadata": {},
   "outputs": [],
   "source": [
    "import re\n",
    "import helper\n",
    "import pandas as pd\n",
    "import matplotlib.pyplot as plt\n",
    "from matplotlib.pyplot import figure"
   ]
  },
  {
   "cell_type": "markdown",
   "metadata": {},
   "source": [
    "# Dataframe Reversoes"
   ]
  },
  {
   "cell_type": "code",
   "execution_count": null,
   "metadata": {},
   "outputs": [],
   "source": [
    "files = helper.get_files_path(\"../data/dodfs_txt_barra_n/\")\n",
    "rets_final = helper.extract_multiple(files, \"reversoes\", True, \"../results/\")\n",
    "rets_final"
   ]
  },
  {
   "cell_type": "markdown",
   "metadata": {},
   "source": [
    "# Análise"
   ]
  },
  {
   "cell_type": "code",
   "execution_count": null,
   "metadata": {},
   "outputs": [],
   "source": [
    "def plot_prop(labels, sizes):\n",
    "    fig1, ax1 = plt.subplots(figsize=(10,10))\n",
    "    cor = ['#1b9aaa', '#06d6a0']\n",
    "    ax1.pie(sizes, labels=labels, autopct='%1.1f%%', startangle=90, colors=cor)\n",
    "    ax1.axis(\"equal\")\n",
    "    ax1.legend(labels, title=\"Presença\", \n",
    "            loc='center left', \n",
    "            bbox_to_anchor=(1.3, 0, 0.5, 1))\n",
    "    plt.show()"
   ]
  },
  {
   "cell_type": "markdown",
   "metadata": {},
   "source": [
    "## Nome"
   ]
  },
  {
   "cell_type": "code",
   "execution_count": null,
   "metadata": {},
   "outputs": [],
   "source": [
    "presence_name = rets_final[\"Nome\"].value_counts()\n",
    "total = rets_final.count()\n",
    "presence_name[0]\n",
    "total[0]"
   ]
  },
  {
   "cell_type": "code",
   "execution_count": null,
   "metadata": {},
   "outputs": [],
   "source": [
    "labels = [\"Com Nome\", \"Sem nome\"]\n",
    "sizes = [total[0] - presence_name[0], presence_name[0]]\n",
    "plot_prop(labels, sizes)"
   ]
  },
  {
   "cell_type": "markdown",
   "metadata": {},
   "source": [
    "## Matrícula "
   ]
  },
  {
   "cell_type": "code",
   "execution_count": null,
   "metadata": {},
   "outputs": [],
   "source": [
    "presence_registration = rets_final[\"Matricula\"].value_counts()\n",
    "presence_registration\n",
    "wrong_registrations = 0\n",
    "for i in range(0, 5):\n",
    "    wrong_registrations += presence_registration[i]\n",
    "    \n",
    "wrong_registrations"
   ]
  },
  {
   "cell_type": "code",
   "execution_count": null,
   "metadata": {},
   "outputs": [],
   "source": [
    "labels = [\"Com Matrícula\", \"Sem Matrícula\"]\n",
    "sizes = [total[3] - wrong_registrations, wrong_registrations]\n",
    "plot_prop(labels, sizes)"
   ]
  },
  {
   "cell_type": "markdown",
   "metadata": {},
   "source": [
    "## Cargo"
   ]
  },
  {
   "cell_type": "code",
   "execution_count": null,
   "metadata": {},
   "outputs": [],
   "source": [
    "presence_role = rets_final[\"Cargo\"].value_counts()\n",
    "presence_role[2]\n",
    "total[5]"
   ]
  },
  {
   "cell_type": "code",
   "execution_count": null,
   "metadata": {},
   "outputs": [],
   "source": [
    "labels = [\"Com cargo\", \"Sem Cargo\"]\n",
    "sizes = [total[5] - presence_role[2], presence_role[2]]\n",
    "plot_prop(labels, sizes)"
   ]
  },
  {
   "cell_type": "markdown",
   "metadata": {},
   "source": [
    "## Quadro"
   ]
  },
  {
   "cell_type": "code",
   "execution_count": null,
   "metadata": {},
   "outputs": [],
   "source": [
    "presence_board = rets_final[\"Quadro\"].value_counts()\n",
    "total[8] \n",
    "\n",
    "all_keys = presence_board.keys()\n",
    "for i in range(0, len(all_keys)):\n",
    "    if all_keys[i] == \"nan\":\n",
    "        index = i\n",
    "presence_board[index]"
   ]
  },
  {
   "cell_type": "code",
   "execution_count": null,
   "metadata": {},
   "outputs": [],
   "source": [
    "labels = [\"Com Quadro\", \"Sem Quadro\"]\n",
    "sizes = [total[8] - presence_board[index], presence_board[index]]\n",
    "plot_prop(labels, sizes)"
   ]
  },
  {
   "cell_type": "markdown",
   "metadata": {},
   "source": [
    "## Fundamento Legal"
   ]
  },
  {
   "cell_type": "code",
   "execution_count": null,
   "metadata": {},
   "outputs": [],
   "source": [
    "presence_legal_foundation = rets_final[\"Fundamento Legal\"].value_counts()\n",
    "total[7]\n",
    "presence_legal_foundation[0]"
   ]
  },
  {
   "cell_type": "code",
   "execution_count": null,
   "metadata": {},
   "outputs": [],
   "source": [
    "labels = [\"Com Fundamento \", \"Sem Fundamento\"]\n",
    "sizes = [total[7] - presence_legal_foundation[0], presence_legal_foundation[0]]\n",
    "plot_prop(labels, sizes)"
   ]
  },
  {
   "cell_type": "markdown",
   "metadata": {},
   "source": [
    "## Órgão"
   ]
  },
  {
   "cell_type": "code",
   "execution_count": null,
   "metadata": {},
   "outputs": [],
   "source": [
    "presence_agency = rets_final[\"Orgao\"].value_counts()\n",
    "presence_agency[1]\n",
    "none = total[0] - total[10]\n",
    "wrong = none + presence_agency[1]"
   ]
  },
  {
   "cell_type": "code",
   "execution_count": null,
   "metadata": {},
   "outputs": [],
   "source": [
    "labels = [\"Com Órgão \", \"Sem Órgão\"]\n",
    "sizes = [total[0] - wrong, wrong]\n",
    "plot_prop(labels, sizes)"
   ]
  },
  {
   "cell_type": "markdown",
   "metadata": {},
   "source": [
    "## Processo GDF/SEI"
   ]
  },
  {
   "cell_type": "code",
   "execution_count": null,
   "metadata": {},
   "outputs": [],
   "source": [
    "presence_process = rets_final[\"SEI\"].value_counts()\n",
    "total[1]\n",
    "index_2 = 0\n",
    "all_keys = presence_process.keys()\n",
    "for i in range(0, len(all_keys)):\n",
    "    if all_keys[i] == \"nan\":\n",
    "        index_2 = i\n",
    "nan = presence_process[index_2]\n",
    "nan"
   ]
  },
  {
   "cell_type": "code",
   "execution_count": null,
   "metadata": {},
   "outputs": [],
   "source": [
    "labels = [\"Com SEI \", \"Sem SEI\"]\n",
    "sizes = [total[1] - nan, nan]\n",
    "plot_prop(labels, sizes)"
   ]
  },
  {
   "cell_type": "markdown",
   "metadata": {},
   "source": [
    "# Tabela Resumo"
   ]
  },
  {
   "cell_type": "code",
   "execution_count": null,
   "metadata": {},
   "outputs": [],
   "source": [
    "def percentage(num1, num2):\n",
    "    percentage = '{0:.1f}'.format((num1 / num2 * 100))\n",
    "    return percentage\n",
    "\n",
    "percentages = [percentage(total[0] - presence_name[0], total[0]), \n",
    "               percentage(total[3] - wrong_registrations, total[0]),\n",
    "               percentage(total[5] - presence_role[2], total[0]),\n",
    "               percentage(total[8] - presence_board[index], total[0]),\n",
    "               percentage(total[7] - presence_legal_foundation[0], total[0]),\n",
    "               percentage(total[0] - wrong, total[0]),\n",
    "               percentage(total[1] - nan, total[0]),\n",
    "              ]"
   ]
  },
  {
   "cell_type": "code",
   "execution_count": null,
   "metadata": {},
   "outputs": [],
   "source": [
    "atos = [\"Nome\", \"Matrícula\", \"Cargo\", \"Quadro\", \"Fundamento\", \"Órgão\",\"SEI\"]\n",
    "\n",
    "percentage_table ={\"Atos\": atos, \"% de presença\": percentages}\n",
    "\n",
    "percentage_table = pd.DataFrame(percentage_table).style.set_properties(**{'text-align': 'left'}).set_table_styles([ dict(selector='th', props=[('text-align','left')] ) ])\n",
    "percentage_table"
   ]
  }
 ],
 "metadata": {
  "kernelspec": {
   "display_name": "Python 3",
   "language": "python",
   "name": "python3"
  },
  "language_info": {
   "codemirror_mode": {
    "name": "ipython",
    "version": 3
   },
   "file_extension": ".py",
   "mimetype": "text/x-python",
   "name": "python",
   "nbconvert_exporter": "python",
   "pygments_lexer": "ipython3",
   "version": "3.7.7-final"
  }
 },
 "nbformat": 4,
 "nbformat_minor": 4
}